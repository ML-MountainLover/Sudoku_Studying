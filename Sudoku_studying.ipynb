{
  "nbformat": 4,
  "nbformat_minor": 0,
  "metadata": {
    "colab": {
      "name": "Sudoku_studying.ipynb",
      "provenance": [],
      "collapsed_sections": [],
      "toc_visible": true
    },
    "kernelspec": {
      "name": "python3",
      "display_name": "Python 3"
    },
    "language_info": {
      "name": "python"
    },
    "accelerator": "GPU"
  },
  "cells": [
    {
      "cell_type": "markdown",
      "source": [
        "#Sudoku Studying"
      ],
      "metadata": {
        "id": "ipSm9wx7zDWD"
      }
    },
    {
      "cell_type": "markdown",
      "source": [
        "##Dataset"
      ],
      "metadata": {
        "id": "dYJKmRJpKLkU"
      }
    },
    {
      "cell_type": "code",
      "source": [
        "# from google.colab import drive\n",
        "# drive.mount('/content/drive')"
      ],
      "metadata": {
        "id": "tZXI_ui-iyb-"
      },
      "execution_count": 3,
      "outputs": []
    },
    {
      "cell_type": "code",
      "source": [
        "!gdown --id 1uDxRM845nsuhX2nFU2V-XsQM33voDXHM"
      ],
      "metadata": {
        "id": "3m_xMMQkjOkg"
      },
      "execution_count": null,
      "outputs": []
    },
    {
      "cell_type": "code",
      "source": [
        "!gdown --id 1kNf1LtUMbZ7cld9RTxi07A_J3tPL9lbr"
      ],
      "metadata": {
        "id": "01i9emmoj24z"
      },
      "execution_count": null,
      "outputs": []
    },
    {
      "cell_type": "code",
      "source": [
        "# !cp /content/drive/MyDrive/Sudoku_dataset/*.zip ./"
      ],
      "metadata": {
        "id": "fcM6sheqUE9C"
      },
      "execution_count": 8,
      "outputs": []
    },
    {
      "cell_type": "code",
      "source": [
        "!unzip archive.zip"
      ],
      "metadata": {
        "id": "qTei9a0-U-vQ"
      },
      "execution_count": null,
      "outputs": []
    },
    {
      "cell_type": "code",
      "source": [
        "import pandas as pd\n",
        "\n",
        "test = pd.read_csv(\"sudoku.csv\", sep=',')\n",
        "test.head(5)"
      ],
      "metadata": {
        "colab": {
          "base_uri": "https://localhost:8080/",
          "height": 206
        },
        "id": "L9RyzPnEeMLI",
        "outputId": "4631b5ae-9fca-4906-feb0-ec69e82f86af"
      },
      "execution_count": 10,
      "outputs": [
        {
          "output_type": "execute_result",
          "data": {
            "text/plain": [
              "                                              puzzle  \\\n",
              "0  0700000430400096108006349000940520003584600200...   \n",
              "1  3010865040465210705000000014008000020803479000...   \n",
              "2  0483015603600080909106700030200009355090102006...   \n",
              "3  0083170000042051090000400703271609049014500000...   \n",
              "4  0408906300001368208007405190004670524500207002...   \n",
              "\n",
              "                                            solution  \n",
              "0  6795182435437296188216349577943521863584617292...  \n",
              "1  3719865248465213795924738614638197522853479167...  \n",
              "2  7483915623652487919126754834217869355894132766...  \n",
              "3  2983176457642851391539462783271689549814537266...  \n",
              "4  1428956379751368248367425193984671524513287962...  "
            ],
            "text/html": [
              "\n",
              "  <div id=\"df-270c7e29-8a6a-43df-9aeb-b43020302ce9\">\n",
              "    <div class=\"colab-df-container\">\n",
              "      <div>\n",
              "<style scoped>\n",
              "    .dataframe tbody tr th:only-of-type {\n",
              "        vertical-align: middle;\n",
              "    }\n",
              "\n",
              "    .dataframe tbody tr th {\n",
              "        vertical-align: top;\n",
              "    }\n",
              "\n",
              "    .dataframe thead th {\n",
              "        text-align: right;\n",
              "    }\n",
              "</style>\n",
              "<table border=\"1\" class=\"dataframe\">\n",
              "  <thead>\n",
              "    <tr style=\"text-align: right;\">\n",
              "      <th></th>\n",
              "      <th>puzzle</th>\n",
              "      <th>solution</th>\n",
              "    </tr>\n",
              "  </thead>\n",
              "  <tbody>\n",
              "    <tr>\n",
              "      <th>0</th>\n",
              "      <td>0700000430400096108006349000940520003584600200...</td>\n",
              "      <td>6795182435437296188216349577943521863584617292...</td>\n",
              "    </tr>\n",
              "    <tr>\n",
              "      <th>1</th>\n",
              "      <td>3010865040465210705000000014008000020803479000...</td>\n",
              "      <td>3719865248465213795924738614638197522853479167...</td>\n",
              "    </tr>\n",
              "    <tr>\n",
              "      <th>2</th>\n",
              "      <td>0483015603600080909106700030200009355090102006...</td>\n",
              "      <td>7483915623652487919126754834217869355894132766...</td>\n",
              "    </tr>\n",
              "    <tr>\n",
              "      <th>3</th>\n",
              "      <td>0083170000042051090000400703271609049014500000...</td>\n",
              "      <td>2983176457642851391539462783271689549814537266...</td>\n",
              "    </tr>\n",
              "    <tr>\n",
              "      <th>4</th>\n",
              "      <td>0408906300001368208007405190004670524500207002...</td>\n",
              "      <td>1428956379751368248367425193984671524513287962...</td>\n",
              "    </tr>\n",
              "  </tbody>\n",
              "</table>\n",
              "</div>\n",
              "      <button class=\"colab-df-convert\" onclick=\"convertToInteractive('df-270c7e29-8a6a-43df-9aeb-b43020302ce9')\"\n",
              "              title=\"Convert this dataframe to an interactive table.\"\n",
              "              style=\"display:none;\">\n",
              "        \n",
              "  <svg xmlns=\"http://www.w3.org/2000/svg\" height=\"24px\"viewBox=\"0 0 24 24\"\n",
              "       width=\"24px\">\n",
              "    <path d=\"M0 0h24v24H0V0z\" fill=\"none\"/>\n",
              "    <path d=\"M18.56 5.44l.94 2.06.94-2.06 2.06-.94-2.06-.94-.94-2.06-.94 2.06-2.06.94zm-11 1L8.5 8.5l.94-2.06 2.06-.94-2.06-.94L8.5 2.5l-.94 2.06-2.06.94zm10 10l.94 2.06.94-2.06 2.06-.94-2.06-.94-.94-2.06-.94 2.06-2.06.94z\"/><path d=\"M17.41 7.96l-1.37-1.37c-.4-.4-.92-.59-1.43-.59-.52 0-1.04.2-1.43.59L10.3 9.45l-7.72 7.72c-.78.78-.78 2.05 0 2.83L4 21.41c.39.39.9.59 1.41.59.51 0 1.02-.2 1.41-.59l7.78-7.78 2.81-2.81c.8-.78.8-2.07 0-2.86zM5.41 20L4 18.59l7.72-7.72 1.47 1.35L5.41 20z\"/>\n",
              "  </svg>\n",
              "      </button>\n",
              "      \n",
              "  <style>\n",
              "    .colab-df-container {\n",
              "      display:flex;\n",
              "      flex-wrap:wrap;\n",
              "      gap: 12px;\n",
              "    }\n",
              "\n",
              "    .colab-df-convert {\n",
              "      background-color: #E8F0FE;\n",
              "      border: none;\n",
              "      border-radius: 50%;\n",
              "      cursor: pointer;\n",
              "      display: none;\n",
              "      fill: #1967D2;\n",
              "      height: 32px;\n",
              "      padding: 0 0 0 0;\n",
              "      width: 32px;\n",
              "    }\n",
              "\n",
              "    .colab-df-convert:hover {\n",
              "      background-color: #E2EBFA;\n",
              "      box-shadow: 0px 1px 2px rgba(60, 64, 67, 0.3), 0px 1px 3px 1px rgba(60, 64, 67, 0.15);\n",
              "      fill: #174EA6;\n",
              "    }\n",
              "\n",
              "    [theme=dark] .colab-df-convert {\n",
              "      background-color: #3B4455;\n",
              "      fill: #D2E3FC;\n",
              "    }\n",
              "\n",
              "    [theme=dark] .colab-df-convert:hover {\n",
              "      background-color: #434B5C;\n",
              "      box-shadow: 0px 1px 3px 1px rgba(0, 0, 0, 0.15);\n",
              "      filter: drop-shadow(0px 1px 2px rgba(0, 0, 0, 0.3));\n",
              "      fill: #FFFFFF;\n",
              "    }\n",
              "  </style>\n",
              "\n",
              "      <script>\n",
              "        const buttonEl =\n",
              "          document.querySelector('#df-270c7e29-8a6a-43df-9aeb-b43020302ce9 button.colab-df-convert');\n",
              "        buttonEl.style.display =\n",
              "          google.colab.kernel.accessAllowed ? 'block' : 'none';\n",
              "\n",
              "        async function convertToInteractive(key) {\n",
              "          const element = document.querySelector('#df-270c7e29-8a6a-43df-9aeb-b43020302ce9');\n",
              "          const dataTable =\n",
              "            await google.colab.kernel.invokeFunction('convertToInteractive',\n",
              "                                                     [key], {});\n",
              "          if (!dataTable) return;\n",
              "\n",
              "          const docLinkHtml = 'Like what you see? Visit the ' +\n",
              "            '<a target=\"_blank\" href=https://colab.research.google.com/notebooks/data_table.ipynb>data table notebook</a>'\n",
              "            + ' to learn more about interactive tables.';\n",
              "          element.innerHTML = '';\n",
              "          dataTable['output_type'] = 'display_data';\n",
              "          await google.colab.output.renderOutput(dataTable, element);\n",
              "          const docLink = document.createElement('div');\n",
              "          docLink.innerHTML = docLinkHtml;\n",
              "          element.appendChild(docLink);\n",
              "        }\n",
              "      </script>\n",
              "    </div>\n",
              "  </div>\n",
              "  "
            ]
          },
          "metadata": {},
          "execution_count": 10
        }
      ]
    },
    {
      "cell_type": "markdown",
      "source": [
        "###Dataset for NN"
      ],
      "metadata": {
        "id": "UB3NBH8u0Ct0"
      }
    },
    {
      "cell_type": "code",
      "source": [
        "import torch.utils.data as data\n",
        "import torch\n",
        "import pandas as pd\n",
        "\n",
        "\n",
        "def create_sudoku_tensors(df, train_split=0.8):\n",
        "    s = df.shape[0]\n",
        "\n",
        "    def one_hot_encode(s):\n",
        "        zeros = torch.zeros((1, 81, 9), dtype=torch.float)\n",
        "        for a in range(81):\n",
        "            zeros[0, a, int(s[a]) - 1] = 1 if int(s[a]) > 0 else 0\n",
        "        return zeros\n",
        "\n",
        "    quizzes_t = df.puzzle.apply(one_hot_encode)\n",
        "    solutions_t = df.solution.apply(one_hot_encode)\n",
        "    quizzes_t = torch.cat(quizzes_t.values.tolist())\n",
        "    solutions_t = torch.cat(solutions_t.values.tolist())\n",
        "    randperm = torch.randperm(s)\n",
        "    train = randperm[:int(train_split * s)]\n",
        "    test = randperm[int(train_split * s):]\n",
        "\n",
        "    return data.TensorDataset(quizzes_t[train], solutions_t[train]),\\\n",
        "        data.TensorDataset(quizzes_t[test], solutions_t[test]), test\n",
        "\n",
        "\n",
        "def create_constraint_mask():\n",
        "    constraint_mask = torch.zeros((81, 3, 81), dtype=torch.float)\n",
        "    # row constraints\n",
        "    for a in range(81):\n",
        "        r = 9 * (a // 9)\n",
        "        for b in range(9):\n",
        "            constraint_mask[a, 0, r + b] = 1\n",
        "\n",
        "    # column constraints\n",
        "    for a in range(81):\n",
        "        c = a % 9\n",
        "        for b in range(9):\n",
        "            constraint_mask[a, 1, c + 9 * b] = 1\n",
        "\n",
        "    # box constraints\n",
        "    for a in range(81):\n",
        "        r = a // 9\n",
        "        c = a % 9\n",
        "        br = 3 * 9 * (r // 3)\n",
        "        bc = 3 * (c // 3)\n",
        "        for b in range(9):\n",
        "            r = b % 3\n",
        "            c = 9 * (b // 3)\n",
        "            constraint_mask[a, 2, br + bc + r + c] = 1\n",
        "\n",
        "    return constraint_mask\n",
        "\n",
        "\n",
        "def load_dataset(subsample=4000):\n",
        "    dataset = pd.read_csv(\"sudoku.csv\", sep=',')\n",
        "    my_sample = dataset.sample(subsample)\n",
        "    train_set, test_set, test_ind = create_sudoku_tensors(my_sample)\n",
        "    return train_set, test_set, dataset.loc[test_ind]"
      ],
      "metadata": {
        "id": "Gp12KhuKEOb-"
      },
      "execution_count": 11,
      "outputs": []
    },
    {
      "cell_type": "code",
      "source": [
        "import torch\n",
        "import torch.utils.data as data\n",
        "import torch.nn as nn\n",
        "import torch.optim as optim\n",
        "import numpy as np\n",
        "\n",
        "batch_size = 500\n",
        "\n",
        "\n",
        "\n",
        "train_set, test_set, bactracking_test_set = load_dataset(subsample=100000)\n",
        "\n",
        "\n",
        "\n",
        "\n",
        "dataloader_ = data.DataLoader(train_set,\n",
        "                              batch_size=batch_size,\n",
        "                              shuffle=True)\n",
        "\n",
        "dataloader_test_ = data.DataLoader(test_set,\n",
        "                                  batch_size=batch_size,\n",
        "                                  shuffle=True)\n",
        "\n",
        "loss = nn.MSELoss()\n",
        "\n"
      ],
      "metadata": {
        "id": "xoXpzd6zIunP"
      },
      "execution_count": 12,
      "outputs": []
    },
    {
      "cell_type": "code",
      "source": [
        "print(\"Train set size = \", len(train_set))\n",
        "print(\"Test set size = \", len(test_set))"
      ],
      "metadata": {
        "colab": {
          "base_uri": "https://localhost:8080/"
        },
        "id": "k5yy5Qwfs1sM",
        "outputId": "a76abe01-5a23-4973-99d3-f579cfb5fdc6"
      },
      "execution_count": 13,
      "outputs": [
        {
          "output_type": "stream",
          "name": "stdout",
          "text": [
            "Train set size =  80000\n",
            "Test set size =  20000\n"
          ]
        }
      ]
    },
    {
      "cell_type": "markdown",
      "source": [
        "##Backtracking"
      ],
      "metadata": {
        "id": "3wXqMOmEPi4y"
      }
    },
    {
      "cell_type": "code",
      "source": [
        "def find_empty(bo):\n",
        "    for i in range(81):\n",
        "      # print(bo[i])\n",
        "      if(bo[i] == \"0\"):\n",
        "        #print(\"Find empty!\")\n",
        "        return(i)\n",
        "    return None"
      ],
      "metadata": {
        "id": "wbEpvNeSCAop"
      },
      "execution_count": 14,
      "outputs": []
    },
    {
      "cell_type": "code",
      "source": [
        "def valid(bo, num, pos):\n",
        "    # Check row\n",
        "    r = 9 * (pos // 9)\n",
        "    for b in range(9):\n",
        "      if bo[r + b] == num and (r + b != pos):\n",
        "        return False\n",
        "\n",
        "    # Check column\n",
        "    c = pos % 9\n",
        "    for b in range(9):\n",
        "      if bo[c + 9 * b] == num and (c + 9 * b != pos):\n",
        "        return False\n",
        "\n",
        "    # Check box\n",
        "    r = pos // 9\n",
        "    c = pos % 9\n",
        "    br = 3 * 9 * (r // 3)\n",
        "    bc = 3 * (c // 3)\n",
        "    for b in range(9):\n",
        "        r = b % 3\n",
        "        c = 9 * (b // 3)\n",
        "        if bo[br + bc + r + c] == num and (br + bc + r + c != pos):\n",
        "          return False\n",
        "\n",
        "    return True"
      ],
      "metadata": {
        "id": "5zpiZzxeEK9F"
      },
      "execution_count": 15,
      "outputs": []
    },
    {
      "cell_type": "code",
      "source": [
        "def backtracking_solve(bo, bos):\n",
        "    find = find_empty(bo)\n",
        "    if find is None:\n",
        "        bos.append(bo)\n",
        "        return True\n",
        "    else:\n",
        "        position = find\n",
        "\n",
        "    for i in range(1,10):\n",
        "        if valid(bo, str(i), position):\n",
        "            bo = bo[:position] + str(i) + bo[position+1:]\n",
        "\n",
        "            if backtracking_solve(bo, bos):\n",
        "                return True\n",
        "\n",
        "            bo = bo[:position] + \"0\" + bo[position+1:]\n",
        "\n",
        "    return False"
      ],
      "metadata": {
        "id": "lw_jNz2oSCeP"
      },
      "execution_count": 18,
      "outputs": []
    },
    {
      "cell_type": "code",
      "source": [
        "def is_backtracking_solve_correctly(x, y):\n",
        "  bos = []\n",
        "  backtracking_solve(x, bos)\n",
        "  return bos[0] == y"
      ],
      "metadata": {
        "id": "7BaR_V1bpzG_"
      },
      "execution_count": 19,
      "outputs": []
    },
    {
      "cell_type": "code",
      "source": [
        "%%time\n",
        "number_of_right_backtracking_solutions = bactracking_test_set[[\"puzzle\", \"solution\"]].apply(lambda x: is_backtracking_solve_correctly(x[0], x[1]), axis = 1).sum()"
      ],
      "metadata": {
        "id": "FfG5iUJlxvCO",
        "colab": {
          "base_uri": "https://localhost:8080/"
        },
        "outputId": "4bd15b3e-992b-47d0-8fbd-f17a0598f377"
      },
      "execution_count": 20,
      "outputs": [
        {
          "output_type": "stream",
          "name": "stdout",
          "text": [
            "CPU times: user 5min 8s, sys: 1.05 s, total: 5min 9s\n",
            "Wall time: 5min 10s\n"
          ]
        }
      ]
    },
    {
      "cell_type": "code",
      "source": [
        "accuracy_of_backtracking = (number_of_right_backtracking_solutions / len(bactracking_test_set)) * 100\n",
        "\n",
        "print(f\"Accuracy of Backtracking: {accuracy_of_backtracking}%\")"
      ],
      "metadata": {
        "colab": {
          "base_uri": "https://localhost:8080/"
        },
        "id": "DYuX7YK2oPfO",
        "outputId": "e79fb703-56e6-4fd6-93d7-9b8a31482e70"
      },
      "execution_count": 21,
      "outputs": [
        {
          "output_type": "stream",
          "name": "stdout",
          "text": [
            "Accuracy of Backtracking: 100.0%\n"
          ]
        }
      ]
    },
    {
      "cell_type": "markdown",
      "source": [
        "##Naked Twin approach"
      ],
      "metadata": {
        "id": "5W9SVxnolLZY"
      }
    },
    {
      "cell_type": "code",
      "source": [
        "nakedtwin_test_set = bactracking_test_set"
      ],
      "metadata": {
        "id": "V18Gr8CipXcJ"
      },
      "execution_count": 22,
      "outputs": []
    },
    {
      "cell_type": "code",
      "source": [
        "import numpy as np\n",
        "import pandas as pd\n",
        "\n",
        "import collections\n",
        "\n",
        "rows = 'ABCDEFGHI'\n",
        "cols = '123456789'\n",
        "\n",
        "def cross(A, B):\n",
        "    \"Cross product of elements in A and elements in B.\"\n",
        "    return [s + t for s in A for t in B]\n",
        "\n",
        "\n",
        "boxes = cross(rows, cols)\n",
        "\n",
        "row_units = [cross(r, cols) for r in rows]\n",
        "\n",
        "column_units = [cross(rows, c) for c in cols]\n",
        "\n",
        "square_units = [cross(rs, cs) for rs in ('ABC', 'DEF', 'GHI') for cs in ('123', '456', '789')]\n",
        "\n",
        "unitlist = row_units + column_units + square_units \n",
        "\n",
        "units = dict((s, [u for u in unitlist if s in u]) for s in boxes)\n",
        "\n",
        "peers = dict((s, set(sum(units[s], [])) - set([s])) for s in boxes)\n",
        "\n",
        "\n",
        "def assign_value(values, box, value):\n",
        "    \"\"\"\n",
        "    Please use this function to update your values dictionary!\n",
        "    Assigns a value to a given box. If it updates the board record it.\n",
        "    \"\"\"\n",
        "    values[box] = value\n",
        "    return values\n",
        "\n",
        "\n",
        "def naked_twins(values):\n",
        "    \"\"\"Eliminate values using the naked twins strategy.\n",
        "    Args:\n",
        "        values(dict): a dictionary of the form {'box_name': '123456789', ...}\n",
        "    Returns:\n",
        "        the values dictionary with the naked twins eliminated from peers.\n",
        "    \"\"\"\n",
        "\n",
        "    # Find all instances of naked twins\n",
        "    for unit in unitlist:\n",
        "        # Occurrences dict\n",
        "        unit_values_counter = collections.Counter([values[box] for box in unit])\n",
        "        for twins, count in unit_values_counter.items():\n",
        "            # twins will occur twice in a unit, triples will occur three times, and quads four times\n",
        "            if 1 < count == len(twins):\n",
        "                for box in unit:\n",
        "                    # for all boxes except twins boxes in a unit,\n",
        "                    # remove all potential values that exist in twins, triples, quads..\n",
        "                    if values[box] != twins and set(values[box]).intersection(set(twins)):\n",
        "                        for digit in twins:\n",
        "                            values = assign_value(values, box, values[box].replace(digit, ''))\n",
        "    return values\n",
        "\n",
        "\n",
        "def grid_values(grid):\n",
        "    \"\"\"\n",
        "    Convert grid into a dict of {square: char} with '123456789' for empties.\n",
        "    Args:\n",
        "        grid(string) - A grid in string form.\n",
        "    Returns:\n",
        "        A grid in dictionary form\n",
        "            Keys: The boxes, e.g., 'A1'\n",
        "            Values: The value in each box, e.g., '8'. If the box has no value, then the value will be '123456789'.\n",
        "    \"\"\"\n",
        "    chars = []\n",
        "    digits = '123456789'\n",
        "    for c in grid:\n",
        "        if c in digits:\n",
        "            chars.append(c)\n",
        "        if c == '0':\n",
        "            chars.append(digits)\n",
        "    assert len(chars) == 81\n",
        "    return dict(zip(boxes, chars))\n",
        "\n",
        "def eliminate(values):\n",
        "    \"\"\"\n",
        "        Go through all the boxes, and whenever there is a box with a value, eliminate this value from the values of all its peers.\n",
        "        Input: A sudoku in dictionary form.\n",
        "        Output: The resulting sudoku in dictionary form.\n",
        "        \"\"\"\n",
        "    solved_values = [box for box in values.keys() if len(values[box]) == 1]\n",
        "    for box in solved_values:\n",
        "        digit = values[box]\n",
        "        for peer in peers[box]:\n",
        "            values[peer] = values[peer].replace(digit, '')\n",
        "    return values\n",
        "\n",
        "\n",
        "def only_choice(values):\n",
        "    \"\"\"\n",
        "        Go through all the units, and whenever there is a unit with a value that only fits in one box, assign the value to this box.\n",
        "        Input: A sudoku in dictionary form.\n",
        "        Output: The resulting sudoku in dictionary form.\n",
        "        \"\"\"\n",
        "    for unit in unitlist:\n",
        "        for digit in '123456789':\n",
        "            dplaces = [box for box in unit if digit in values[box]]\n",
        "            if len(dplaces) == 1:\n",
        "                values[dplaces[0]] = digit\n",
        "    return values\n",
        "\n",
        "\n",
        "def reduce_puzzle(values):\n",
        "    \"\"\"\n",
        "    Iterate eliminate() and only_choice(). If at some point, there is a box with no available values, return False.\n",
        "    If the sudoku is solved, return the sudoku.\n",
        "    If after an iteration of both functions, the sudoku remains the same, return the sudoku.\n",
        "    Input: A sudoku in dictionary form.\n",
        "    Output: The resulting sudoku in dictionary form.\n",
        "    \"\"\"\n",
        "    stalled = False\n",
        "    while not stalled:\n",
        "        solved_values_before = len([box for box in values.keys() if len(values[box]) == 1])\n",
        "        values = eliminate(values)\n",
        "        values = only_choice(values)\n",
        "        values = naked_twins(values)\n",
        "        solved_values_after = len([box for box in values.keys() if len(values[box]) == 1])\n",
        "        stalled = solved_values_before == solved_values_after\n",
        "        if len([box for box in values.keys() if len(values[box]) == 0]):\n",
        "            return False\n",
        "    return values\n",
        "\n",
        "\n",
        "def search(values):\n",
        "    \"Using depth-first search and propagation, create a search tree and solve the sudoku.\"\n",
        "    # First, reduce the puzzle using the previous function\n",
        "    values = reduce_puzzle(values)\n",
        "    if values is False:\n",
        "        return False  ## Failed earlier\n",
        "    if all(len(values[s]) == 1 for s in boxes):\n",
        "        return values  ## Solved!\n",
        "    # Choose one of the unfilled squares with the fewest possibilities\n",
        "    min_possibility_box = min([box for box in boxes if len(values[box]) > 1])\n",
        "    # Now use recursion to solve each one of the resulting sudokus, and if one returns a value (not False), return that answer!\n",
        "    for digit in values[min_possibility_box]:\n",
        "        new_sudoku = values.copy()\n",
        "        new_sudoku[min_possibility_box] = digit\n",
        "        attempt = search(new_sudoku)\n",
        "        if attempt:\n",
        "            return attempt\n",
        "\n",
        "\n",
        "def nakedtwin_solve(grid):\n",
        "    values = grid_values(grid)\n",
        "    values = search(values)\n",
        "    return values"
      ],
      "metadata": {
        "id": "M2hmGtLNlRf4"
      },
      "execution_count": 23,
      "outputs": []
    },
    {
      "cell_type": "code",
      "source": [
        "def is_nakedtwin_solve_correctly(x, y):\n",
        "  prediction = nakedtwin_solve(x)\n",
        "  answer = grid_values(y)\n",
        "  return prediction == answer"
      ],
      "metadata": {
        "id": "cu8JyCfBvdMu"
      },
      "execution_count": 24,
      "outputs": []
    },
    {
      "cell_type": "code",
      "source": [
        "%%time\n",
        "number_of_right_nakedtwin_solutions = nakedtwin_test_set[[\"puzzle\", \"solution\"]].apply(lambda x: is_nakedtwin_solve_correctly(x[0], x[1]), axis = 1).sum()"
      ],
      "metadata": {
        "id": "bFVAtoaPly_Z",
        "colab": {
          "base_uri": "https://localhost:8080/"
        },
        "outputId": "51a86cf3-6169-4347-9334-a7a7fa0af0c3"
      },
      "execution_count": 25,
      "outputs": [
        {
          "output_type": "stream",
          "name": "stdout",
          "text": [
            "CPU times: user 1min 5s, sys: 220 ms, total: 1min 5s\n",
            "Wall time: 1min 5s\n"
          ]
        }
      ]
    },
    {
      "cell_type": "code",
      "source": [
        "accuracy_of_nakedtwin = (number_of_right_nakedtwin_solutions / len(nakedtwin_test_set)) * 100\n",
        "\n",
        "print(f\"Accuracy of Naked Twin approach: {accuracy_of_nakedtwin}%\")"
      ],
      "metadata": {
        "colab": {
          "base_uri": "https://localhost:8080/"
        },
        "id": "YykzpDg7noqg",
        "outputId": "f0f59986-c03e-40c1-b28c-ef09b5ac8def"
      },
      "execution_count": 26,
      "outputs": [
        {
          "output_type": "stream",
          "name": "stdout",
          "text": [
            "Accuracy of Naked Twin approach: 100.0%\n"
          ]
        }
      ]
    },
    {
      "cell_type": "markdown",
      "source": [
        "##NN solving"
      ],
      "metadata": {
        "id": "qxwCAvAL5oij"
      }
    },
    {
      "cell_type": "markdown",
      "source": [
        "###Model"
      ],
      "metadata": {
        "id": "LKD5gcTDKWGW"
      }
    },
    {
      "cell_type": "code",
      "source": [
        "import torch\n",
        "import torch.nn as nn\n",
        "\n",
        "\n",
        "class SudokuSolver(nn.Module):\n",
        "    def __init__(self, constraint_mask, n=9, hidden1=100):\n",
        "        super(SudokuSolver, self).__init__()\n",
        "        self.constraint_mask = constraint_mask.view(1, n * n, 3, n * n, 1)\n",
        "        self.n = n\n",
        "        self.hidden1 = hidden1\n",
        "\n",
        "        # Feature vector is the 3 constraints\n",
        "        self.input_size = 3 * n\n",
        "\n",
        "        self.l1 = nn.Linear(self.input_size,\n",
        "                            self.hidden1, bias=False)\n",
        "        self.a1 = nn.ReLU()\n",
        "        self.l2 = nn.Linear(self.hidden1,\n",
        "                            n, bias=False)\n",
        "        self.softmax = nn.Softmax(dim=1)\n",
        "\n",
        "    # x is a (batch, n^2, n) tensor\n",
        "    def forward(self, x):\n",
        "        n = self.n\n",
        "        bts = x.shape[0]\n",
        "        c = self.constraint_mask\n",
        "        min_empty = (x.sum(dim=2) == 0).sum(dim=1).max()\n",
        "        x_pred = x.clone()\n",
        "        for a in range(min_empty):\n",
        "            # score empty numbers\n",
        "            # print(x.get_device(), c.get_device())\n",
        "            constraints = (x.view(bts, 1, 1, n * n, n) * c).sum(dim=3)\n",
        "            # empty cells\n",
        "            empty_mask = (x.sum(dim=2) == 0)\n",
        "\n",
        "            f = constraints.reshape(bts, n * n, 3 * n)\n",
        "            y_ = self.l2(self.a1(self.l1(f[empty_mask])))\n",
        "\n",
        "            s_ = self.softmax(y_)\n",
        "\n",
        "            # Score the rows\n",
        "            x_pred[empty_mask] = s_\n",
        "\n",
        "            s = torch.zeros_like(x_pred)\n",
        "            s[empty_mask] = s_\n",
        "            # find most probable guess\n",
        "            score, score_pos = s.max(dim=2)\n",
        "            mmax = score.max(dim=1)[1]\n",
        "            # fill it in\n",
        "            nz = empty_mask.sum(dim=1).nonzero().view(-1)\n",
        "            mmax_ = mmax[nz]\n",
        "            device = 'cuda:0' if torch.cuda.is_available() else \"cpu\"\n",
        "            ones = torch.ones(nz.shape[0]).to(device)\n",
        "            x.index_put_((nz, mmax_, score_pos[nz, mmax_]), ones)\n",
        "        return x_pred, x"
      ],
      "metadata": {
        "id": "VxzQxim6KUje"
      },
      "execution_count": 27,
      "outputs": []
    },
    {
      "cell_type": "markdown",
      "source": [
        "###Train"
      ],
      "metadata": {
        "id": "RAaiCQsWRZyA"
      }
    },
    {
      "cell_type": "code",
      "source": [
        "device = 'cuda:0' if torch.cuda.is_available() else \"cpu\"\n",
        "constraint_mask = create_constraint_mask().to(device)\n",
        "sudoku_solver = SudokuSolver(constraint_mask)\n",
        "sudoku_solver.to(device)\n",
        "\n",
        "optimizer = optim.Adam(sudoku_solver.parameters(),\n",
        "                       lr=0.01,\n",
        "                       weight_decay=0.000)"
      ],
      "metadata": {
        "id": "BfR1eKC6Mh8w"
      },
      "execution_count": 28,
      "outputs": []
    },
    {
      "cell_type": "code",
      "source": [
        "device"
      ],
      "metadata": {
        "colab": {
          "base_uri": "https://localhost:8080/",
          "height": 35
        },
        "id": "-V9QS9pB69ew",
        "outputId": "1f325862-d3f8-4b1a-e6c6-a3841edfc2ae"
      },
      "execution_count": 29,
      "outputs": [
        {
          "output_type": "execute_result",
          "data": {
            "text/plain": [
              "'cuda:0'"
            ],
            "application/vnd.google.colaboratory.intrinsic+json": {
              "type": "string"
            }
          },
          "metadata": {},
          "execution_count": 29
        }
      ]
    },
    {
      "cell_type": "code",
      "source": [
        "import matplotlib.pyplot as plt\n",
        "from IPython.display import clear_output\n",
        "import time\n",
        "\n",
        "epochs = 5\n",
        "loss_train = []\n",
        "loss_test = []\n",
        "for e in range(epochs):\n",
        "    batch_loss_train = []\n",
        "\n",
        "    batch_loss_test = []\n",
        "    for i_batch, ts_ in enumerate(dataloader_):\n",
        "        sudoku_solver.train()\n",
        "        optimizer.zero_grad()\n",
        "        ts_[0] = ts_[0].to(device)\n",
        "        ts_[1] = ts_[1].to(device)\n",
        "        pred, mat = sudoku_solver(ts_[0])\n",
        "        ls = loss(pred, ts_[1])\n",
        "        errors = mat.max(dim=2)[1]\\\n",
        "                != ts_[1].max(dim=2)[1]\n",
        "        # print(errors.sum().cpu().item())\n",
        "        batch_loss_train.append(errors.sum().cpu().item() / (batch_size * 81))\n",
        "        ls.backward()\n",
        "        optimizer.step()\n",
        "        #break\n",
        "\n",
        "        # print(\"Epoch \" + str(e) + \" batch \" + str(i_batch)\n",
        "        #       + \": \" + str(ls.item()))\n",
        "        sudoku_solver.eval()\n",
        "        with torch.no_grad():\n",
        "            n = 500\n",
        "            rows = torch.randperm(test_set.tensors[0].shape[0])[:n]\n",
        "            test_pred, test_fill = sudoku_solver(test_set.tensors[0].to(device)[rows])\n",
        "            # print(test_fill.shape)\n",
        "            errors = test_fill.max(dim=2)[1]\\\n",
        "                != test_set.tensors[1].to(device)[rows].max(dim=2)[1]\n",
        "            batch_loss_test.append(errors.sum().cpu().item() / (n * 81))\n",
        "            # print(\"Cells in error: \" + str(errors.sum().item()))\n",
        "            # print(\"Loss test = \", batch_loss_test)\n",
        "            # print(\"Loss train = \", batch_loss_train)\n",
        "        #plt.clf()\n",
        "        # fig = plt.subplots()\n",
        "        if(e == 0):\n",
        "            plt.plot(batch_loss_test, 'r', label = 'test_error')\n",
        "            plt.plot(batch_loss_train, 'b', label = 'train_error')\n",
        "            plt.title(\"Relative error from batch\")\n",
        "            plt.xlabel(\"Batch\")\n",
        "            plt.ylabel(\"Relative error\")\n",
        "            plt.legend()\n",
        "            plt.savefig(\"graph_b.pdf\")\n",
        "            plt.show()\n",
        "            time.sleep(0.2)\n",
        "            clear_output(wait = True)\n",
        "    sudoku_solver.eval()\n",
        "    batch_loss_test = []\n",
        "    for i_batch, tv_ in enumerate(dataloader_test_):\n",
        "      with torch.no_grad():\n",
        "        tv_[0] = tv_[0].to(device)\n",
        "        tv_[1] = tv_[1].to(device)\n",
        "        pred, mat = sudoku_solver(tv_[0])\n",
        "      ls = loss(pred, tv_[1])\n",
        "      errors = mat.max(dim=2)[1]\\\n",
        "              != tv_[1].max(dim=2)[1]\n",
        "      batch_loss_test.append(errors.sum().cpu().item() / (batch_size * 81))\n",
        "\n",
        "    loss_test.append(np.mean(batch_loss_test))\n",
        "    loss_train.append(np.mean(batch_loss_train))\n",
        "    print(\"Test error = \", loss_test[-1])\n",
        "    print(\"Train error = \", loss_train[-1])\n",
        "    plt.plot(loss_test, 'r', label = 'test_error')\n",
        "    plt.plot(loss_train, 'b', label = 'train_error')\n",
        "    plt.title(\"Relative error from epochs\")\n",
        "    plt.xlabel(\"Epochs\")\n",
        "    plt.ylabel(\"Relative error\")\n",
        "    plt.legend()\n",
        "    plt.savefig(\"graph.pdf\")\n",
        "    plt.show()\n",
        "    time.sleep(0.2)\n",
        "    clear_output(wait = True) "
      ],
      "metadata": {
        "colab": {
          "base_uri": "https://localhost:8080/",
          "height": 331
        },
        "outputId": "3b141553-a81d-4510-e282-30e9a223c3c6",
        "id": "HhLk7Mp5IunR"
      },
      "execution_count": 30,
      "outputs": [
        {
          "output_type": "stream",
          "name": "stdout",
          "text": [
            "Test error =  0.027468518518518514\n",
            "Train error =  0.028093518518518525\n"
          ]
        },
        {
          "output_type": "display_data",
          "data": {
            "text/plain": [
              "<Figure size 432x288 with 1 Axes>"
            ],
            "image/png": "[encoded data removed]"
          },
          "metadata": {
            "needs_background": "light"
          }
        }
      ]
    },
    {
      "cell_type": "code",
      "source": [
        "# torch.save(sudoku_solver.state_dict(), \"/content/drive/MyDrive/Sudoku_dataset/best_model.pth\") "
      ],
      "metadata": {
        "id": "3nPcLfQKTmf4"
      },
      "execution_count": 31,
      "outputs": []
    },
    {
      "cell_type": "code",
      "source": [
        "# device = 'cuda:0' if torch.cuda.is_available() else \"cpu\"\n",
        "# constraint_mask = create_constraint_mask().to(device)\n",
        "# sudoku_solver = SudokuSolver(constraint_mask)\n",
        "# sudoku_solver.to(device)\n",
        "# sudoku_solver.load_state_dict(torch.load(\"best_model.pth\", map_location=torch.device('cpu')))\n",
        "# sudoku_solver.eval()"
      ],
      "metadata": {
        "id": "s5cxytRjUQEm"
      },
      "execution_count": 32,
      "outputs": []
    },
    {
      "cell_type": "code",
      "source": [
        "%%time\n",
        "\n",
        "correctly_solved_sudokus = 0\n",
        "error_filled_cells = 0\n",
        "for i_batch, tv_ in enumerate(dataloader_test_):\n",
        "      with torch.no_grad():\n",
        "        tv_[0] = tv_[0].to(device)\n",
        "        tv_[1] = tv_[1].to(device)\n",
        "        pred, mat = sudoku_solver(tv_[0])\n",
        "      errors = mat.max(dim=2)[1]\\\n",
        "              != tv_[1].max(dim=2)[1]\n",
        "      error_filled_cells += errors.cpu().sum().item()\n",
        "      correctly_solved_sudokus += (errors.sum(dim = 1).cpu() == 0).sum().item()"
      ],
      "metadata": {
        "colab": {
          "base_uri": "https://localhost:8080/"
        },
        "id": "OpeCoQDanqT7",
        "outputId": "945f10f3-ff4a-4389-f1fa-34b2f61e84ee"
      },
      "execution_count": 33,
      "outputs": [
        {
          "output_type": "stream",
          "name": "stdout",
          "text": [
            "CPU times: user 27.4 s, sys: 34.9 ms, total: 27.4 s\n",
            "Wall time: 27.3 s\n"
          ]
        }
      ]
    },
    {
      "cell_type": "code",
      "source": [
        "accuracy_cells = round((1 - error_filled_cells / (len(test_set) * 9**2)) * 100, 1)\n",
        "accuracy_full = round(100 * correctly_solved_sudokus / (len(test_set)), 1)\n",
        "\n",
        "print(f\"Accuracy of neural network (percentage of correctly filled cells): {accuracy_cells}%\")\n",
        "print(f\"Accuracy of neural network (percentage of fully correctly filled sudokas): {accuracy_full}%\")"
      ],
      "metadata": {
        "colab": {
          "base_uri": "https://localhost:8080/"
        },
        "id": "xzcZivSYWor7",
        "outputId": "d9c4cf47-5a16-476f-df9a-7372836d7eba"
      },
      "execution_count": 34,
      "outputs": [
        {
          "output_type": "stream",
          "name": "stdout",
          "text": [
            "Accuracy of neural network (percentage of correctly filled cells): 97.3%\n",
            "Accuracy of neural network (percentage of fully correctly filled sudokas): 87.4%\n"
          ]
        }
      ]
    },
    {
      "cell_type": "markdown",
      "source": [
        "##NN + Naked Twin"
      ],
      "metadata": {
        "id": "KFL5LAZdGALR"
      }
    },
    {
      "cell_type": "code",
      "source": [
        "def to_cor_type(arr):\n",
        "  new_list = [x+1 for x in list(arr)]\n",
        "  answer = ''.join(map(str, new_list))\n",
        "  return(answer)\n",
        "\n",
        "def is_correct(s):\n",
        "  for i in range(len(s)):\n",
        "    if(valid(s, s[i], i) is False):\n",
        "      return False\n",
        "  return True"
      ],
      "metadata": {
        "id": "ThBQK2RBF9OR"
      },
      "execution_count": 35,
      "outputs": []
    },
    {
      "cell_type": "code",
      "source": [
        "%%time\n",
        "\n",
        "mistake = 0\n",
        "for i_batch, tv_ in enumerate(dataloader_test_):\n",
        "      with torch.no_grad():\n",
        "        tv_[0] = tv_[0].to(device)\n",
        "        tv_[1] = tv_[1].to(device)\n",
        "        init = tv_[0].clone()\n",
        "        pred, mat = sudoku_solver(tv_[0])\n",
        "      sums = init.sum(dim = 2).cpu().numpy()\n",
        "      ind = init.max(dim=2)[1].cpu().numpy()\n",
        "      mat_ = mat.max(dim=2)[1].cpu().numpy()\n",
        "      tv1 = tv_[1].max(dim=2)[1].cpu().numpy()\n",
        "      for i in range(len(mat.max(dim=2)[1])):\n",
        "        answer = 0\n",
        "        \n",
        "        if(is_correct(to_cor_type(mat_[i]))):\n",
        "          answer = grid_values(to_cor_type(mat_[i]))\n",
        "        else:\n",
        "          sums_i = sums[i]\n",
        "          ind_i = sums[i] * (ind[i] + 1)\n",
        "          answer = nakedtwin_solve(\"\".join(list(map(str, ind_i.astype(int)))))\n",
        "        if(answer != grid_values(to_cor_type(tv1[i]))):\n",
        "          mistake += 1"
      ],
      "metadata": {
        "colab": {
          "base_uri": "https://localhost:8080/"
        },
        "id": "uFt600Qwe92A",
        "outputId": "d4f6b002-c3e0-42e2-a92a-67879ee3ed28"
      },
      "execution_count": 36,
      "outputs": [
        {
          "output_type": "stream",
          "name": "stdout",
          "text": [
            "CPU times: user 52.1 s, sys: 162 ms, total: 52.3 s\n",
            "Wall time: 52.2 s\n"
          ]
        }
      ]
    },
    {
      "cell_type": "code",
      "source": [
        "accuracy_cells = round((1 - mistake / (len(test_set) * 9**2)) * 100, 1)\n",
        "\n",
        "print(f\"Accuracy of neural network + Naked Twin approach: {accuracy_cells}%\")"
      ],
      "metadata": {
        "id": "nSiRXF9jESnp",
        "colab": {
          "base_uri": "https://localhost:8080/"
        },
        "outputId": "8a72d0af-c2a1-4828-f82f-bec80516279c"
      },
      "execution_count": 37,
      "outputs": [
        {
          "output_type": "stream",
          "name": "stdout",
          "text": [
            "Accuracy of neural network + Naked Twin approach: 100.0%\n"
          ]
        }
      ]
    }
  ]
}